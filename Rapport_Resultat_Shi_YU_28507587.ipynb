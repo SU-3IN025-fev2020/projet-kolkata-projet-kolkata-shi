{
 "cells": [
  {
   "cell_type": "markdown",
   "metadata": {},
   "source": [
    "# [LU3IN025] Intelligence Artificielle et Jeux 2019-2020\n",
    "\n",
    "Shi YU (n° 28507587)\n",
    "\n",
    "mail : shi4yu2@gmail.com\n"
   ]
  },
  {
   "cell_type": "markdown",
   "metadata": {},
   "source": [
    "# Projet \"Les restaurants de Kolkata\"\n",
    "\n",
    "Github : https://github.com/SU-3IN025-fev2020/projet-kolkata-projet-kolkata-shi\n",
    "\n",
    "## Introduction\n",
    "### Description du problème\n",
    "\n",
    "> Plusieurs joueurs (n), qui habitent dans le même quartier, souhaitent se rendre dans un des k restaurants du quartier. Une fois que leur choix est effectué, les joueurs se rendent dans le restaurant choisi. La règle est alors la suivante :\n",
    "> * si un joueur est seul dans un restaurant, un plat lui est servi (gain = 1)\n",
    "> * si plusieurs joueurs se trouvent dans un même restaurant, un joueur est choisi au hasard (de manière uniforme parmi tous les joueurs présents dans ce restaurant), et est servi (gain = 1). Les autres joueurs ne sont pas servis (gain = 0). Le jeu se déroule sur plusieurs itérations (m, fixé à l'avance).\n",
    "\n",
    "## Réalisation\n",
    "### Stratégies de base\n",
    "\n",
    "#### Boucle Principale\n",
    "\n",
    "> chaque joueur choisit un restaurant où se rendre, selon la stratégie qui est la sienne;\n",
    "> \n",
    "> Les deux stratégies de base qui doivent être implémentées pour cette version de base sont :\n",
    "> 1. une stratégie aléatoire uniforme\n",
    "> 2. une stratégie têtue (toujours choisir le même restaurant)\n",
    "\n",
    "Les deux stratégies de base sont implémentées dans `kalkota_restaurants.py`. De plus, une stratégie de restaurant le plus proche est implémentée.\n",
    "\n",
    "Les signautres des fonctions implémentées : \n",
    "\n",
    "```python\n",
    "# stratégie aléatoire uniforme (indice 0)\n",
    "def restaurant_random_choice(nbPlayers, nbRestaus, posPlayers, goalStates)\n",
    "\n",
    "# stratégie tétu (indice 1)\n",
    "def restaurant_tetu(nbPlayers, nbRestaus, posPlayers, goalStates)\n",
    "\n",
    "# stratégie restaurant le plus proche (indice 2)\n",
    "def restaurant_plusproche(nbPlayers, nbRestaus, posPlayers, goalStates)\n",
    "```\n",
    "\n",
    "\n",
    "\n",
    "> chaque joueur se rend au restaurant de son choix, en suivant le plus court chemin jusqu'au restaurant (via l'exécution de l'algorithme A*);\n",
    "\n",
    "\n",
    "Algorithme A* est implémenté dans `a_star.py`\n",
    "\n",
    "Les signatures des fonctions implémentées:\n",
    "\n",
    "```python\n",
    "# distance manhattan\n",
    "def manhattan(p1, p2)\n",
    "\n",
    "# trouver les cases accessibles\n",
    "def available_neighbours(current_x, current_y, mapGame)\n",
    "\n",
    "# Algorithme A*\n",
    "def astar_search(start, end, mapGame)\n",
    "```\n",
    "\n",
    "\n",
    "> lorsque tous les joueurs sont arrivés à destination, les joueurs obtiennent leur gain, et prennent connaissance des taux de remplissage de chaque restaurant.\n",
    "> * si un joueur est seul dans un restaurant, un plat lui est servi (gain = 1)\n",
    "> * si plusieurs joueurs se trouvent dans un même restaurant, un joueur est choisi au hasard (de manière uniforme parmi tous les joueurs présents dans ce restaurant), et est servi (gain = 1). Les autres joueurs ne sont pas servis (gain = 0). Le jeu se déroule sur plusieurs itérations (m, fixé à l'avance).\n",
    "\n",
    "\n",
    "#### Exécution\n",
    "\n",
    "**Simple**\n",
    "\n",
    "```\n",
    "$ python kalkota_restaurants.py [iteration] [strategie] [nom_fichier_resultat]\n",
    "```\n",
    "\n",
    "**Competition**\n",
    "\n",
    "```\n",
    "$ python kalkota_restaurants_competition.py [iteration] [strategie] [nom_fichier_resultat]\n",
    "```\n",
    "avec:\n",
    "* strategie = 01 : aléatoire vs. têtu\n",
    "* strategie = 02 : aléatoire vs. le plus proche\n",
    "* strategie = 12 : têtu vs. le plus proche\n"
   ]
  },
  {
   "cell_type": "markdown",
   "metadata": {},
   "source": [
    "## Expérimentations\n",
    "\n",
    "On a réalisé, pour chacune des trois stratégies implémentées, 20 simulations (60 au total), chaque simulation contient 20 iterations. Le résultat est enregistré dans `resultat.csv` contenant l'indice de la stratégie, et pour chaque joueur :\n",
    "* le succès du joueur (1 s'il arrive au restaurant choisi, 0 sinon)\n",
    "* le choix du restaurant (indice entre 0 et 9)\n",
    "* le gain (1 pour le joueur choisi au hasard parmi tous les joueurs présents dans ce restaurant, 0 sinon)\n"
   ]
  },
  {
   "cell_type": "code",
   "execution_count": 1,
   "metadata": {},
   "outputs": [],
   "source": [
    "import numpy as np\n",
    "import pandas as pd\n",
    "\n",
    "df = pd.read_csv(\"resultats/resultat.csv\", sep=\"\\t\")\n",
    "df_remplissage = pd.read_csv(\"resultats/resultat_remplissage.csv\", sep=\"\\t\")\n",
    "\n",
    "df_strategy0 = df[df[\"strategie\"] == 0]\n",
    "df_strategy1 = df[df[\"strategie\"] == 1]\n",
    "df_strategy2 = df[df[\"strategie\"] == 2]\n"
   ]
  },
  {
   "cell_type": "code",
   "execution_count": 2,
   "metadata": {},
   "outputs": [
    {
     "name": "stdout",
     "output_type": "stream",
     "text": [
      "==== Taux de réussite de chaque joueur, stratégie 0 aléatoire uniforme ====\n",
      "success_0    0.52\n",
      "success_1    0.52\n",
      "success_2    0.52\n",
      "success_3    0.34\n",
      "success_4    0.48\n",
      "success_5    0.42\n",
      "success_6    0.58\n",
      "success_7    0.50\n",
      "success_8    0.46\n",
      "success_9    0.48\n",
      "dtype: float64\n",
      "\n",
      "    Taux de réussite stratégie aléatoire uniforme:  0.48200000000000004\n",
      "\n",
      "==== Taux de réussite de chaque joueur, stratégie 1 têtue ====\n",
      "success_0    0.52\n",
      "success_1    0.44\n",
      "success_2    0.52\n",
      "success_3    0.70\n",
      "success_4    0.60\n",
      "success_5    0.52\n",
      "success_6    0.40\n",
      "success_7    0.52\n",
      "success_8    0.56\n",
      "success_9    0.52\n",
      "dtype: float64\n",
      "\n",
      "    Taux de réussite stratégie têtue:  0.5299999999999999\n",
      "\n",
      "==== Taux de réussite de chaque joueur, stratégie 2 le plus proche ====\n",
      "success_0    1.0\n",
      "success_1    1.0\n",
      "success_2    1.0\n",
      "success_3    1.0\n",
      "success_4    1.0\n",
      "success_5    1.0\n",
      "success_6    1.0\n",
      "success_7    1.0\n",
      "success_8    1.0\n",
      "success_9    1.0\n",
      "dtype: float64\n",
      "\n",
      "    Taux de réussite stratégie le plus proche:  1.0\n"
     ]
    }
   ],
   "source": [
    "df_success_0 = df_strategy0.filter(regex=\"success\", axis=1)\n",
    "print(\"==== Taux de réussite de chaque joueur, stratégie 0 aléatoire uniforme ====\")\n",
    "print(df_success_0.mean(axis=0))\n",
    "print(\"\\n    Taux de réussite stratégie aléatoire uniforme: \", df_success_0.mean(axis=0).mean())\n",
    "\n",
    "df_success_1 = df_strategy1.filter(regex=\"success\", axis=1)\n",
    "print(\"\\n==== Taux de réussite de chaque joueur, stratégie 1 têtue ====\")\n",
    "print(df_success_1.mean(axis=0))\n",
    "print(\"\\n    Taux de réussite stratégie têtue: \", df_success_1.mean(axis=0).mean())\n",
    "    \n",
    "df_success_2 = df_strategy2.filter(regex=\"success\", axis=1)\n",
    "print(\"\\n==== Taux de réussite de chaque joueur, stratégie 2 le plus proche ====\")\n",
    "print(df_success_2.mean(axis=0))\n",
    "print(\"\\n    Taux de réussite stratégie le plus proche: \", df_success_2.mean(axis=0).mean())\n"
   ]
  },
  {
   "cell_type": "code",
   "execution_count": 3,
   "metadata": {},
   "outputs": [
    {
     "name": "stdout",
     "output_type": "stream",
     "text": [
      "==== Gain moyen de chaque joueur, stratégie 0 aléatoire uniforme ====\n",
      "gain_0    0.36\n",
      "gain_1    0.34\n",
      "gain_2    0.44\n",
      "gain_3    0.20\n",
      "gain_4    0.36\n",
      "gain_5    0.26\n",
      "gain_6    0.46\n",
      "gain_7    0.36\n",
      "gain_8    0.28\n",
      "gain_9    0.40\n",
      "dtype: float64\n",
      "\n",
      "    Gain moyen stratégie aléatoire uniforme:  0.346\n",
      "\n",
      "==== Gain moyen de chaque joueur, stratégie 1 têtue ====\n",
      "gain_0    0.42\n",
      "gain_1    0.36\n",
      "gain_2    0.40\n",
      "gain_3    0.56\n",
      "gain_4    0.60\n",
      "gain_5    0.52\n",
      "gain_6    0.34\n",
      "gain_7    0.38\n",
      "gain_8    0.40\n",
      "gain_9    0.30\n",
      "dtype: float64\n",
      "\n",
      "    Gain moyen stratégie têtue:  0.42800000000000005\n",
      "\n",
      "==== Gain moyen de chaque joueur, stratégie 2 le plus proche ====\n",
      "gain_0    0.52\n",
      "gain_1    0.52\n",
      "gain_2    0.48\n",
      "gain_3    0.42\n",
      "gain_4    0.44\n",
      "gain_5    0.48\n",
      "gain_6    0.40\n",
      "gain_7    0.48\n",
      "gain_8    0.38\n",
      "gain_9    0.54\n",
      "dtype: float64\n",
      "\n",
      "    Gain moyen stratégie le plus proche:  0.466\n"
     ]
    }
   ],
   "source": [
    "df_gain_0 = df_strategy0.filter(regex=\"gain\", axis=1)\n",
    "print(\"==== Gain moyen de chaque joueur, stratégie 0 aléatoire uniforme ====\")\n",
    "print(df_gain_0.mean(axis=0))\n",
    "print(\"\\n    Gain moyen stratégie aléatoire uniforme: \", df_gain_0.mean(axis=0).mean())\n",
    "\n",
    "df_gain_1 = df_strategy1.filter(regex=\"gain\", axis=1)\n",
    "print(\"\\n==== Gain moyen de chaque joueur, stratégie 1 têtue ====\")\n",
    "print(df_gain_1.mean(axis=0))\n",
    "print(\"\\n    Gain moyen stratégie têtue: \", df_gain_1.mean(axis=0).mean())\n",
    "    \n",
    "df_gain_2 = df_strategy2.filter(regex=\"gain\", axis=1)\n",
    "print(\"\\n==== Gain moyen de chaque joueur, stratégie 2 le plus proche ====\")\n",
    "print(df_gain_2.mean(axis=0))\n",
    "print(\"\\n    Gain moyen stratégie le plus proche: \", df_gain_2.mean(axis=0).mean())\n"
   ]
  },
  {
   "cell_type": "markdown",
   "metadata": {},
   "source": [
    "## Compétition\n",
    "### stratégie aléatoire vs. stratégie têtue\n"
   ]
  },
  {
   "cell_type": "code",
   "execution_count": 4,
   "metadata": {},
   "outputs": [
    {
     "name": "stdout",
     "output_type": "stream",
     "text": [
      "==== Taux de réussite de chaque joueur, stratégie 0 aléatoire uniforme ====\n",
      "success_0    0.42\n",
      "success_1    0.47\n",
      "success_2    0.46\n",
      "success_3    0.49\n",
      "success_4    0.48\n",
      "dtype: float64\n",
      "\n",
      "    Taux de réussite stratégie aléatoire uniforme:  0.46399999999999997\n",
      "\n",
      " vs. \n",
      "\n",
      "==== Taux de réussite de chaque joueur, stratégie 1 têtue ====\n",
      "success_5    0.66\n",
      "success_6    0.50\n",
      "success_7    0.54\n",
      "success_8    0.46\n",
      "success_9    0.60\n",
      "dtype: float64\n",
      "\n",
      "    Taux de réussite stratégie têtu:  0.552\n"
     ]
    }
   ],
   "source": [
    "df01 = pd.read_csv(\"resultats/competition01.csv\", sep=\"\\t\")\n",
    "\n",
    "df01_success_0 = df01.filter(regex=\"success_(0|1|2|3|4)\", axis=1)\n",
    "print(\"==== Taux de réussite de chaque joueur, stratégie 0 aléatoire uniforme ====\")\n",
    "print(df01_success_0.mean(axis=0))\n",
    "print(\"\\n    Taux de réussite stratégie aléatoire uniforme: \", df01_success_0.mean(axis=0).mean())\n",
    "\n",
    "print(\"\\n vs. \\n\")\n",
    "\n",
    "df01_success_1 = df01.filter(regex=\"success_(5|6|7|8|9)\", axis=1)\n",
    "print(\"==== Taux de réussite de chaque joueur, stratégie 1 têtue ====\")\n",
    "print(df01_success_1.mean(axis=0))\n",
    "print(\"\\n    Taux de réussite stratégie têtu: \", df01_success_1.mean(axis=0).mean())"
   ]
  },
  {
   "cell_type": "code",
   "execution_count": 5,
   "metadata": {},
   "outputs": [
    {
     "name": "stdout",
     "output_type": "stream",
     "text": [
      "==== Gain moyen de chaque joueur, stratégie 0 aléatoire uniforme ====\n",
      "gain_0    0.28\n",
      "gain_1    0.35\n",
      "gain_2    0.27\n",
      "gain_3    0.33\n",
      "gain_4    0.32\n",
      "dtype: float64\n",
      "\n",
      "    Gain moyen stratégie aléatoire uniforme:  0.31\n",
      "\n",
      " vs. \n",
      "\n",
      "==== Gain moyen de chaque joueur, stratégie stratégie 1 têtu ====\n",
      "gain_5    0.52\n",
      "gain_6    0.42\n",
      "gain_7    0.44\n",
      "gain_8    0.35\n",
      "gain_9    0.51\n",
      "dtype: float64\n",
      "\n",
      "    Gain moyen stratégie têtue:  0.44800000000000006\n"
     ]
    }
   ],
   "source": [
    "df01_gain_0 = df01.filter(regex=\"gain_(0|1|2|3|4)\", axis=1)\n",
    "print(\"==== Gain moyen de chaque joueur, stratégie 0 aléatoire uniforme ====\")\n",
    "print(df01_gain_0.mean(axis=0))\n",
    "print(\"\\n    Gain moyen stratégie aléatoire uniforme: \", df01_gain_0.mean(axis=0).mean())\n",
    "\n",
    "print(\"\\n vs. \\n\")\n",
    "\n",
    "df01_gain_1 = df01.filter(regex=\"gain_(5|6|7|8|9)\", axis=1)\n",
    "print(\"==== Gain moyen de chaque joueur, stratégie stratégie 1 têtu ====\")\n",
    "print(df01_gain_1.mean(axis=0))\n",
    "print(\"\\n    Gain moyen stratégie têtue: \", df01_gain_1.mean(axis=0).mean())"
   ]
  },
  {
   "cell_type": "markdown",
   "metadata": {},
   "source": [
    "Le groupe ayant la stratégie têtu obtient un taux de réussite et un main meilleur que le group ayant la stratégie aléatoire uniforme."
   ]
  },
  {
   "cell_type": "markdown",
   "metadata": {},
   "source": [
    "### stratégie aléatoire vs. stratégie le plus proche\n"
   ]
  },
  {
   "cell_type": "code",
   "execution_count": 6,
   "metadata": {},
   "outputs": [
    {
     "name": "stdout",
     "output_type": "stream",
     "text": [
      "==== Taux de réussite de chaque joueur, stratégie 0 aléatoire uniforme ====\n",
      "success_0    0.50\n",
      "success_1    0.56\n",
      "success_2    0.53\n",
      "success_3    0.50\n",
      "success_4    0.47\n",
      "dtype: float64\n",
      "\n",
      "    Taux de réussite stratégie aléatoire uniforme:  0.5119999999999999\n",
      "\n",
      " vs. \n",
      "\n",
      "==== Taux de réussite de chaque joueur, stratégie 2 le plus proche ====\n",
      "success_5    1.0\n",
      "success_6    1.0\n",
      "success_7    1.0\n",
      "success_8    1.0\n",
      "success_9    1.0\n",
      "dtype: float64\n",
      "\n",
      "    Taux de réussite stratégie le plus proche:  1.0\n"
     ]
    }
   ],
   "source": [
    "df02 = pd.read_csv(\"resultats/competition02.csv\", sep=\"\\t\")\n",
    "\n",
    "df02_success_0 = df02.filter(regex=\"success_(0|1|2|3|4)\", axis=1)\n",
    "print(\"==== Taux de réussite de chaque joueur, stratégie 0 aléatoire uniforme ====\")\n",
    "print(df02_success_0.mean(axis=0))\n",
    "print(\"\\n    Taux de réussite stratégie aléatoire uniforme: \", df02_success_0.mean(axis=0).mean())\n",
    "\n",
    "print(\"\\n vs. \\n\")\n",
    "df02_success_2 = df02.filter(regex=\"success_(5|6|7|8|9)\", axis=1)\n",
    "print(\"==== Taux de réussite de chaque joueur, stratégie 2 le plus proche ====\")\n",
    "print(df02_success_2.mean(axis=0))\n",
    "print(\"\\n    Taux de réussite stratégie le plus proche: \", df02_success_2.mean(axis=0).mean())"
   ]
  },
  {
   "cell_type": "code",
   "execution_count": 7,
   "metadata": {},
   "outputs": [
    {
     "name": "stdout",
     "output_type": "stream",
     "text": [
      "==== Gain moyen de chaque joueur, stratégie 0 aléatoire uniforme ====\n",
      "gain_0    0.35\n",
      "gain_1    0.33\n",
      "gain_2    0.29\n",
      "gain_3    0.29\n",
      "gain_4    0.21\n",
      "dtype: float64\n",
      "\n",
      "    Gain moyen stratégie aléatoire uniforme:  0.294\n",
      "\n",
      " vs. \n",
      "\n",
      "==== Gain moyen de chaque joueur, stratégie 1 têtu ====\n",
      "gain_5    0.55\n",
      "gain_6    0.54\n",
      "gain_7    0.58\n",
      "gain_8    0.56\n",
      "gain_9    0.57\n",
      "dtype: float64\n",
      "\n",
      "    Gain moyen stratégie têtue:  0.5599999999999999\n"
     ]
    }
   ],
   "source": [
    "df02_gain_0 = df02.filter(regex=\"gain_(0|1|2|3|4)\", axis=1)\n",
    "print(\"==== Gain moyen de chaque joueur, stratégie 0 aléatoire uniforme ====\")\n",
    "print(df02_gain_0.mean(axis=0))\n",
    "print(\"\\n    Gain moyen stratégie aléatoire uniforme: \", df02_gain_0.mean(axis=0).mean())\n",
    "\n",
    "print(\"\\n vs. \\n\")\n",
    "\n",
    "df02_gain_2 = df02.filter(regex=\"gain_(5|6|7|8|9)\", axis=1)\n",
    "print(\"==== Gain moyen de chaque joueur, stratégie 1 têtu ====\")\n",
    "print(df02_gain_2.mean(axis=0))\n",
    "print(\"\\n    Gain moyen stratégie têtue: \", df02_gain_2.mean(axis=0).mean())"
   ]
  },
  {
   "cell_type": "markdown",
   "metadata": {},
   "source": [
    "### stratégie têtue vs. stratégie le plus proche"
   ]
  },
  {
   "cell_type": "code",
   "execution_count": 8,
   "metadata": {},
   "outputs": [
    {
     "name": "stdout",
     "output_type": "stream",
     "text": [
      "==== Taux de réussite de chaque joueur, stratégie 1 têtu ====\n",
      "success_0    0.56\n",
      "success_1    0.52\n",
      "success_2    0.51\n",
      "success_3    0.51\n",
      "success_4    0.49\n",
      "dtype: float64\n",
      "\n",
      "    Taux de réussite stratégie têtu:  0.5119999999999999\n",
      "\n",
      " vs. \n",
      "\n",
      "==== Taux de réussite de chaque joueur, stratégie 2 le plus proche ====\n",
      "success_5    1.0\n",
      "success_6    1.0\n",
      "success_7    1.0\n",
      "success_8    1.0\n",
      "success_9    1.0\n",
      "dtype: float64\n",
      "\n",
      "    Taux de réussite stratégie le plus proche:  1.0\n"
     ]
    }
   ],
   "source": [
    "df12 = pd.read_csv(\"resultats/competition12.csv\", sep=\"\\t\")\n",
    "\n",
    "df12_success_1 = df12.filter(regex=\"success_(0|1|2|3|4)\", axis=1)\n",
    "print(\"==== Taux de réussite de chaque joueur, stratégie 1 têtu ====\")\n",
    "print(df12_success_1.mean(axis=0))\n",
    "print(\"\\n    Taux de réussite stratégie têtu: \", df02_success_0.mean(axis=0).mean())\n",
    "\n",
    "print(\"\\n vs. \\n\")\n",
    "df12_success_2 = df12.filter(regex=\"success_(5|6|7|8|9)\", axis=1)\n",
    "print(\"==== Taux de réussite de chaque joueur, stratégie 2 le plus proche ====\")\n",
    "print(df12_success_2.mean(axis=0))\n",
    "print(\"\\n    Taux de réussite stratégie le plus proche: \", df12_success_2.mean(axis=0).mean())"
   ]
  },
  {
   "cell_type": "code",
   "execution_count": 9,
   "metadata": {},
   "outputs": [
    {
     "name": "stdout",
     "output_type": "stream",
     "text": [
      "==== Gain moyen de chaque joueur, stratégie stratégie 1 têtu ====\n",
      "gain_0    0.39\n",
      "gain_1    0.42\n",
      "gain_2    0.26\n",
      "gain_3    0.29\n",
      "gain_4    0.42\n",
      "dtype: float64\n",
      "\n",
      "    Gain moyen stratégie têtu:  0.356\n",
      "\n",
      " vs. \n",
      "\n",
      "==== Gain moyen de chaque joueur, stratégie 2 le plus proche  ====\n",
      "gain_5    0.52\n",
      "gain_6    0.52\n",
      "gain_7    0.62\n",
      "gain_8    0.59\n",
      "gain_9    0.56\n",
      "dtype: float64\n",
      "\n",
      "    Gain moyen le plus proche:  0.562\n"
     ]
    }
   ],
   "source": [
    "df12_gain_1 = df12.filter(regex=\"gain_(0|1|2|3|4)\", axis=1)\n",
    "print(\"==== Gain moyen de chaque joueur, stratégie stratégie 1 têtu ====\")\n",
    "print(df12_gain_1.mean(axis=0))\n",
    "print(\"\\n    Gain moyen stratégie têtu: \", df12_gain_1.mean(axis=0).mean())\n",
    "\n",
    "print(\"\\n vs. \\n\")\n",
    "\n",
    "df12_gain_2 = df12.filter(regex=\"gain_(5|6|7|8|9)\", axis=1)\n",
    "print(\"==== Gain moyen de chaque joueur, stratégie 2 le plus proche  ====\")\n",
    "print(df12_gain_2.mean(axis=0))\n",
    "print(\"\\n    Gain moyen le plus proche: \", df12_gain_2.mean(axis=0).mean())"
   ]
  },
  {
   "cell_type": "markdown",
   "metadata": {},
   "source": [
    "Le group ayant la stratégie le plus proche obtient un meilleur gain lorsqu'il est en compétition avec les deux autres stratégie. Le meilleur gain est expliqué en partie par le taux de réussite maximal."
   ]
  },
  {
   "cell_type": "markdown",
   "metadata": {},
   "source": [
    "# Conslusion\n",
    "\n",
    "De façon général, le taux de réussite de la stratégie têtu est meilleur que la stratégie aléatoire uniforme. Cela est soutenu par le gain moyen supérieur de cette stratégie.\n",
    "\n",
    "Pour la stratégie le plus proche, le taux de réussite est 1 et le gain moyen est proche de 0.5. Ce gain peut être vu comme étant dû au résultat du choix aléatoire."
   ]
  }
 ],
 "metadata": {
  "kernelspec": {
   "display_name": "Python 3",
   "language": "python",
   "name": "python3"
  },
  "language_info": {
   "codemirror_mode": {
    "name": "ipython",
    "version": 3
   },
   "file_extension": ".py",
   "mimetype": "text/x-python",
   "name": "python",
   "nbconvert_exporter": "python",
   "pygments_lexer": "ipython3",
   "version": "3.7.6"
  }
 },
 "nbformat": 4,
 "nbformat_minor": 4
}
